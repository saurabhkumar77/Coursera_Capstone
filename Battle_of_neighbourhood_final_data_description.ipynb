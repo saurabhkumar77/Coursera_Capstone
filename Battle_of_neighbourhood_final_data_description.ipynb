{
 "cells": [
  {
   "cell_type": "markdown",
   "metadata": {},
   "source": [
    "# The Battle of the Neighborhoods - Week 1\n",
    "\n",
    "### Data 1 : In order to segement the neighborhoods and explore them, we will essentially need a dataset that contains the boroughs and the neighborhoods that exist in each borough as well as the the latitude and logitude coordinates of each neighborhood.\n",
    "\n",
    "This dataset exists for free on the web. Link to the dataset is : https://en.wikipedia.org/wiki/List_of_postal_codes_of_Canada:_M \n",
    "\n",
    "### Data 2 : Demographic and population analysis of the Totonto city in order to find out what is the population structure and where are the South Asian population lives in. \n",
    "\n",
    "The dataset exists at below location\n",
    "\n",
    "https://en.wikipedia.org/wiki/Demographics_of_Toronto\n",
    "http://www12.statcan.ca/census-recensement/2016/dp-pd/hlt-fst/imm/Table.cfm?Lang=E&T=22&Geo=535\n",
    "\n",
    "### Data 3 : Analysis of the crime profile of the Toronto City. This can be found at http://data.torontopolice.on.ca/datasets/neighbourhood-crime-rates-boundary-file-/data?orderBy=Neighbourhood\n",
    "\n",
    "### Data 4 : Toronto city geographical coordinates data will be utilized as input for the Foursquare API, that will be leveraged to provision venues information for each neighborhood.We will use the Foursquare API to explore neighborhoods in Toronto City. \n"
   ]
  },
  {
   "cell_type": "code",
   "execution_count": null,
   "metadata": {},
   "outputs": [],
   "source": []
  }
 ],
 "metadata": {
  "kernelspec": {
   "display_name": "Python 3",
   "language": "python",
   "name": "python3"
  },
  "language_info": {
   "codemirror_mode": {
    "name": "ipython",
    "version": 3
   },
   "file_extension": ".py",
   "mimetype": "text/x-python",
   "name": "python",
   "nbconvert_exporter": "python",
   "pygments_lexer": "ipython3",
   "version": "3.6.5"
  }
 },
 "nbformat": 4,
 "nbformat_minor": 2
}
